{
 "cells": [
  {
   "cell_type": "markdown",
   "metadata": {},
   "source": [
    "# Homework 4\n",
    "\n",
    "This homework should be submitted <b>by LT</b>.   \n",
    "\n",
    "LT Number:\n",
    "\n",
    "Names:"
   ]
  },
  {
   "cell_type": "markdown",
   "metadata": {},
   "source": [
    "Given:\n",
    "\n",
    "\\begin{align*}\n",
    "    a = 2 ,\n",
    "    \\quad\n",
    "    b = 3 ,\n",
    "    \\quad\n",
    "    c = 4\n",
    "\\end{align*}\n",
    "\n",
    "and\n",
    "\n",
    "\\begin{align*}\n",
    "    A = \\begin{bmatrix}\n",
    "    6 & -2 & 10 & 1\\\\\n",
    "    -8 & -3 & 1 & 7\n",
    "    \\end{bmatrix}\n",
    "    \\quad\n",
    "    B = \\begin{bmatrix}\n",
    "    1 & 3 \\\\\n",
    "    4 & -10 \\\\\n",
    "    -5 & -5 \\\\\n",
    "    2 & 0 \n",
    "    \\end{bmatrix}\n",
    "    \\quad\n",
    "    C = \\begin{bmatrix}\n",
    "    1 & 2 & 3 & 4\\\\\n",
    "    5 & 6 & 7 & 8\\\\\n",
    "    9 & 0 & 1 & 2\\\\\n",
    "    3 & 4 & 5 & 6\n",
    "    \\end{bmatrix}\n",
    "    \\quad\n",
    "    D = \\begin{bmatrix}\n",
    "    0 & 9 & 8 & 7\\\\\n",
    "    6 & 5 & 4 & 3\\\\\n",
    "    2 & 1 & 0 & 9\\\\\n",
    "    8 & 7 & 6 & 5\n",
    "    \\end{bmatrix}\n",
    "\\end{align*}"
   ]
  },
  {
   "cell_type": "markdown",
   "metadata": {},
   "source": [
    "Calculate the following:\n",
    "\n",
    "1. $bAB$\n",
    "\n",
    "\n",
    "2. $\\text{tr}(cBA + D)$\n",
    "\n",
    "\n",
    "3. $(C^TD + C)aD$"
   ]
  },
  {
   "cell_type": "markdown",
   "metadata": {},
   "source": [
    "---\n",
    "\n",
    "1. Solution here."
   ]
  },
  {
   "cell_type": "markdown",
   "metadata": {},
   "source": [
    "---\n",
    "\n",
    "2. Solution here."
   ]
  },
  {
   "cell_type": "markdown",
   "metadata": {},
   "source": [
    "---\n",
    "\n",
    "3. Solution here."
   ]
  }
 ],
 "metadata": {
  "kernelspec": {
   "display_name": "Python 3",
   "language": "python",
   "name": "python3"
  },
  "language_info": {
   "codemirror_mode": {
    "name": "ipython",
    "version": 3
   },
   "file_extension": ".py",
   "mimetype": "text/x-python",
   "name": "python",
   "nbconvert_exporter": "python",
   "pygments_lexer": "ipython3",
   "version": "3.7.1"
  },
  "latex_envs": {
   "LaTeX_envs_menu_present": true,
   "autoclose": false,
   "autocomplete": true,
   "bibliofile": "biblio.bib",
   "cite_by": "apalike",
   "current_citInitial": 1,
   "eqLabelWithNumbers": true,
   "eqNumInitial": 1,
   "hotkeys": {
    "equation": "Ctrl-E",
    "itemize": "Ctrl-I"
   },
   "labels_anchors": false,
   "latex_user_defs": false,
   "report_style_numbering": false,
   "user_envs_cfg": false
  }
 },
 "nbformat": 4,
 "nbformat_minor": 2
}
