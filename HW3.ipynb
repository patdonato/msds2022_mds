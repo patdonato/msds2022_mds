{
 "cells": [
  {
   "cell_type": "markdown",
   "metadata": {},
   "source": [
    "# Homework 3\n",
    "\n",
    "This homework should be submitted <b>by LT</b>.   \n",
    "\n",
    "LT Number: 8\n",
    "\n",
    "Names: Xidy Del Rosario, Patricia Rose Donato, Manuel Dionisio Mapa, Fredrick Rara, Mia Desiree, Verdeprado"
   ]
  },
  {
   "cell_type": "markdown",
   "metadata": {},
   "source": [
    "Do <b><u>NOT</u></b> import any other libraries aside from those below."
   ]
  },
  {
   "cell_type": "code",
   "execution_count": 2,
   "metadata": {},
   "outputs": [],
   "source": [
    "import numpy as np\n",
    "from scipy.stats import norm"
   ]
  },
  {
   "cell_type": "markdown",
   "metadata": {},
   "source": [
    "## I. Calculating Expectations and Variance"
   ]
  },
  {
   "cell_type": "markdown",
   "metadata": {},
   "source": [
    "Let $X$ be the sum of the rolls of two independent and fair 6-sided dice.\n",
    "\n",
    "#### Q. Create a <b><u>numpy array</b></u> called `domain_X` and store the possible values of $X$. Print the variable."
   ]
  },
  {
   "cell_type": "code",
   "execution_count": 44,
   "metadata": {},
   "outputs": [
    {
     "name": "stdout",
     "output_type": "stream",
     "text": [
      "[ 2  3  4  5  6  7  8  9 10 11 12]\n"
     ]
    }
   ],
   "source": [
    "side = 6\n",
    "d1 = np.arange(1, side + 1)\n",
    "d2 = np.arange(1, side + 1)\n",
    "all_rolls = []\n",
    "\n",
    "for s1 in d1:\n",
    "    for s2 in d2:\n",
    "        all_rolls.append(s1 + s2)\n",
    "\n",
    "domain_X, count_vec = np.unique(all_rolls, return_counts = True)\n",
    "print(domain_X)"
   ]
  },
  {
   "cell_type": "markdown",
   "metadata": {},
   "source": [
    "#### Q. Create a <b><u>numpy array</b></u> called `prob_vec` and store the probabilities associated with the outcomes above. Print the variable."
   ]
  },
  {
   "cell_type": "code",
   "execution_count": 45,
   "metadata": {},
   "outputs": [
    {
     "name": "stdout",
     "output_type": "stream",
     "text": [
      "[0.02777778 0.05555556 0.08333333 0.11111111 0.13888889 0.16666667\n",
      " 0.13888889 0.11111111 0.08333333 0.05555556 0.02777778]\n"
     ]
    }
   ],
   "source": [
    "sample_space = sum(count_vec)\n",
    "prob_vec = count_vec/sample_space\n",
    "print(prob_vec)"
   ]
  },
  {
   "cell_type": "code",
   "execution_count": 78,
   "metadata": {},
   "outputs": [
    {
     "name": "stdout",
     "output_type": "stream",
     "text": [
      "x - freq - sample_space_n - prob\n",
      "2 - 1 - 36 - 0.027777777777777776\n",
      "3 - 2 - 36 - 0.05555555555555555\n",
      "4 - 3 - 36 - 0.08333333333333333\n",
      "5 - 4 - 36 - 0.1111111111111111\n",
      "6 - 5 - 36 - 0.1388888888888889\n",
      "7 - 6 - 36 - 0.16666666666666666\n",
      "8 - 5 - 36 - 0.1388888888888889\n",
      "9 - 4 - 36 - 0.1111111111111111\n",
      "10 - 3 - 36 - 0.08333333333333333\n",
      "11 - 2 - 36 - 0.05555555555555555\n",
      "12 - 1 - 36 - 0.027777777777777776\n"
     ]
    },
    {
     "data": {
      "text/plain": [
       "[None, None, None, None, None, None, None, None, None, None, None]"
      ]
     },
     "execution_count": 78,
     "metadata": {},
     "output_type": "execute_result"
    }
   ],
   "source": [
    "print('x', 'freq', 'sample_space_n', 'prob', sep = ' - ')\n",
    "[print(domain_X[i], count_vec[i], sample_space, prob_vec[i], sep = ' - ') for i in range(len(domain_X))]"
   ]
  },
  {
   "cell_type": "markdown",
   "metadata": {},
   "source": [
    "#### Q. Calculate and print $E[X]$."
   ]
  },
  {
   "cell_type": "code",
   "execution_count": 49,
   "metadata": {},
   "outputs": [
    {
     "name": "stdout",
     "output_type": "stream",
     "text": [
      "6.999999999999999\n"
     ]
    }
   ],
   "source": [
    "# E(X) = sum of x*p(x) for all x\n",
    "E_X = sum(domain_X*prob_vec)\n",
    "print(E_X)"
   ]
  },
  {
   "cell_type": "markdown",
   "metadata": {},
   "source": [
    "#### Q. Calculate and print $\\text{Var}(X)$."
   ]
  },
  {
   "cell_type": "code",
   "execution_count": 51,
   "metadata": {},
   "outputs": [
    {
     "name": "stdout",
     "output_type": "stream",
     "text": [
      "5.833333333333336\n"
     ]
    }
   ],
   "source": [
    "# Var(X) = E(X^2) - [E(X)]^2\n",
    "E_X2 = sum((domain_X**2) * prob_vec)\n",
    "Var_X = E_X2 - (E_X)**2\n",
    "print(Var_X)"
   ]
  },
  {
   "cell_type": "markdown",
   "metadata": {},
   "source": [
    "## II. Data Sampling"
   ]
  },
  {
   "cell_type": "markdown",
   "metadata": {},
   "source": [
    "Suppose you have 2 candidates running for the Presidency: Einstein and Turing `['E', 'T']`.\n",
    "\n",
    "#### Q. Simulate 1,000,000 votes where the true proportion of votes is split 60-40 between Einstein and Turing, respectively. Print the first 5 entries."
   ]
  },
  {
   "cell_type": "code",
   "execution_count": 60,
   "metadata": {},
   "outputs": [
    {
     "name": "stdout",
     "output_type": "stream",
     "text": [
      "['E', 'E', 'E', 'E', 'E']\n"
     ]
    }
   ],
   "source": [
    "np.random.seed(2) # Set seed to 2 so that everyone gets the same answer.\n",
    "\n",
    "n = int(1e+6)\n",
    "x = ['E', 'T']\n",
    "p = [0.60, 0.40]\n",
    "\n",
    "votes = np.random.choice(x, n, p = p)\n",
    "votes = list(votes)\n",
    "print(votes[:5])"
   ]
  },
  {
   "cell_type": "markdown",
   "metadata": {},
   "source": [
    "#### Q. Sample 5000 votes from above. Print the first 5 entries. "
   ]
  },
  {
   "cell_type": "code",
   "execution_count": 72,
   "metadata": {},
   "outputs": [
    {
     "name": "stdout",
     "output_type": "stream",
     "text": [
      "['T', 'T', 'T', 'T', 'T']\n"
     ]
    }
   ],
   "source": [
    "np.random.seed(5) # Set seed to 5 so that everyone gets the same answer.\n",
    "n = 5000\n",
    "sample_5000 = np.random.choice(votes, n)\n",
    "sample_5000 = list(sample_5000)\n",
    "print(sample_5000[:5])"
   ]
  },
  {
   "cell_type": "markdown",
   "metadata": {},
   "source": [
    "#### Q. Estimate `p_vec` using your sample of 5000 and print your estimate."
   ]
  },
  {
   "cell_type": "code",
   "execution_count": 68,
   "metadata": {},
   "outputs": [
    {
     "name": "stdout",
     "output_type": "stream",
     "text": [
      "[0.5958 0.4042]\n"
     ]
    }
   ],
   "source": [
    "x, sample_freq = np.unique(sample_5000, return_counts = True)\n",
    "p_vec = sample_freq/sum(sample_freq)\n",
    "print(p_vec)"
   ]
  },
  {
   "cell_type": "markdown",
   "metadata": {},
   "source": [
    "#### Q. Calculate and print the z-score for a confidence level of 97.5%. "
   ]
  },
  {
   "cell_type": "code",
   "execution_count": 71,
   "metadata": {},
   "outputs": [
    {
     "name": "stdout",
     "output_type": "stream",
     "text": [
      "1.959963984540054\n"
     ]
    }
   ],
   "source": [
    "alpha = 0.05\n",
    "z_score = norm.ppf(1 - alpha/2)\n",
    "print(z_score)"
   ]
  },
  {
   "cell_type": "markdown",
   "metadata": {},
   "source": [
    "#### Q. Calculate and print the ERR, CI lowerbound, and CI upperbound <b><u>for the Einstein probability</b></u>. "
   ]
  },
  {
   "cell_type": "code",
   "execution_count": 75,
   "metadata": {},
   "outputs": [
    {
     "name": "stdout",
     "output_type": "stream",
     "text": [
      "0.013602273185334692\n",
      "0.5821977268146653\n",
      "0.6094022731853347\n"
     ]
    }
   ],
   "source": [
    "einstein_prob = p_vec[0]\n",
    "einstein_var = p_vec[0] * (1-p_vec[0])\n",
    "\n",
    "ERR = z_score * np.sqrt(einstein_var/n)\n",
    "CI_lb = einstein_prob - ERR\n",
    "CI_ub = einstein_prob + ERR\n",
    "\n",
    "print(ERR)\n",
    "print(CI_lb)\n",
    "print(CI_ub)"
   ]
  }
 ],
 "metadata": {
  "kernelspec": {
   "display_name": "Python 3",
   "language": "python",
   "name": "python3"
  },
  "language_info": {
   "codemirror_mode": {
    "name": "ipython",
    "version": 3
   },
   "file_extension": ".py",
   "mimetype": "text/x-python",
   "name": "python",
   "nbconvert_exporter": "python",
   "pygments_lexer": "ipython3",
   "version": "3.7.1"
  }
 },
 "nbformat": 4,
 "nbformat_minor": 2
}
