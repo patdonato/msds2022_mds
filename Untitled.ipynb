{
 "cells": [
  {
   "cell_type": "code",
   "execution_count": 1,
   "metadata": {},
   "outputs": [],
   "source": [
    "import numpy as np\n",
    "import pandas as pd\n",
    "import matplotlib.pyplot as plt\n",
    "from scipy.optimize import curve_fit\n",
    "\n",
    "plt.rcParams['figure.figsize'] = [15, 5]"
   ]
  },
  {
   "cell_type": "code",
   "execution_count": 2,
   "metadata": {},
   "outputs": [],
   "source": [
    "import inspect\n",
    "import itertools\n",
    "import re\n",
    "pd.set_option('max_colwidth', 400)"
   ]
  },
  {
   "cell_type": "code",
   "execution_count": 3,
   "metadata": {},
   "outputs": [],
   "source": [
    "def linear(x, m1, b1):\n",
    "    return m1*x + b1\n",
    "\n",
    "def quadratic(x, a2, b2, c2):\n",
    "    return (a2 * x * x) + (b2 * x) + c2\n",
    "\n",
    "def quadraticn(x, a2n, b2n, c2n):\n",
    "    return (-a2n * x * x) + (b2n * x) + c2n\n",
    "\n",
    "def cubic(x, a3, b3, c3, d3):\n",
    "    return (a3 * x * x * x) + (b3 * x * x) + (c3 * x) + d3\n",
    "\n",
    "def sine(x, A4, f4, C4):\n",
    "    return A4 * np.sin((2 * np.pi * f4 * x) + C4)\n",
    "\n",
    "def sinec(x, A4c, f4c, C4c, D4c):\n",
    "    return A4c * np.sin((2 * np.pi * f4c * x) + C4c) + D4c\n",
    "\n",
    "def exponential(x, A5, b5):\n",
    "    return A5 * np.exp(-b5 * x)\n",
    "\n",
    "def powerlaw(x, A6, alpha6):\n",
    "    return A6 * (np.power(x, alpha6))\n",
    "\n",
    "def powerlawn(x, A6m, alpha6n):\n",
    "    return A6m * (np.power(x, -alpha6n))\n",
    "\n",
    "def logistic(x, A7, k7, x07):\n",
    "    return A7/(1 + np.exp(-k7 * (x - x07)))\n",
    "\n",
    "def gaussian(x, mean, stdev):\n",
    "    return (1/np.sqrt(2 * np.pi * stdev**2)) * np.exp(-(x - mean)**2 / (2*stdev**2))\n",
    "\n",
    "def log(x):\n",
    "    return np.log(x)"
   ]
  },
  {
   "cell_type": "code",
   "execution_count": 13,
   "metadata": {},
   "outputs": [
    {
     "name": "stdout",
     "output_type": "stream",
     "text": [
      "Successfully created fn: def my_linear_quadratic(x, m1, b1, a2, b2, c2):\n",
      "\treturn linear(quadratic(x, a2, b2, c2), m1, b1)\n",
      "Successfully created fn: def my_linear_quadraticn(x, m1, b1, a2n, b2n, c2n):\n",
      "\treturn linear(quadraticn(x, a2n, b2n, c2n), m1, b1)\n",
      "Successfully created fn: def my_linear_cubic(x, m1, b1, a3, b3, c3, d3):\n",
      "\treturn linear(cubic(x, a3, b3, c3, d3), m1, b1)\n",
      "Successfully created fn: def my_linear_sine(x, m1, b1, A4, f4, C4):\n",
      "\treturn linear(sine(x, A4, f4, C4), m1, b1)\n",
      "Successfully created fn: def my_linear_sinec(x, m1, b1, A4c, f4c, C4c, D4c):\n",
      "\treturn linear(sinec(x, A4c, f4c, C4c, D4c), m1, b1)\n",
      "Successfully created fn: def my_linear_exponential(x, m1, b1, A5, b5):\n",
      "\treturn linear(exponential(x, A5, b5), m1, b1)\n",
      "Successfully created fn: def my_linear_logistic(x, m1, b1, A7, k7, x07):\n",
      "\treturn linear(logistic(x, A7, k7, x07), m1, b1)\n",
      "Successfully created fn: def my_linear_log(x, m1, b1):\n",
      "\treturn linear(log(x), m1, b1)\n",
      "Successfully created fn: def my_quadratic_cubic(x, a2, b2, c2, a3, b3, c3, d3):\n",
      "\treturn quadratic(cubic(x, a3, b3, c3, d3), a2, b2, c2)\n",
      "Successfully created fn: def my_quadratic_sine(x, a2, b2, c2, A4, f4, C4):\n",
      "\treturn quadratic(sine(x, A4, f4, C4), a2, b2, c2)\n",
      "Successfully created fn: def my_quadratic_sinec(x, a2, b2, c2, A4c, f4c, C4c, D4c):\n",
      "\treturn quadratic(sinec(x, A4c, f4c, C4c, D4c), a2, b2, c2)\n",
      "Successfully created fn: def my_quadratic_exponential(x, a2, b2, c2, A5, b5):\n",
      "\treturn quadratic(exponential(x, A5, b5), a2, b2, c2)\n",
      "Successfully created fn: def my_quadratic_logistic(x, a2, b2, c2, A7, k7, x07):\n",
      "\treturn quadratic(logistic(x, A7, k7, x07), a2, b2, c2)\n",
      "Successfully created fn: def my_quadratic_log(x, a2, b2, c2):\n",
      "\treturn quadratic(log(x), a2, b2, c2)\n",
      "Successfully created fn: def my_quadraticn_cubic(x, a2n, b2n, c2n, a3, b3, c3, d3):\n",
      "\treturn quadraticn(cubic(x, a3, b3, c3, d3), a2n, b2n, c2n)\n",
      "Successfully created fn: def my_quadraticn_sine(x, a2n, b2n, c2n, A4, f4, C4):\n",
      "\treturn quadraticn(sine(x, A4, f4, C4), a2n, b2n, c2n)\n",
      "Successfully created fn: def my_quadraticn_sinec(x, a2n, b2n, c2n, A4c, f4c, C4c, D4c):\n",
      "\treturn quadraticn(sinec(x, A4c, f4c, C4c, D4c), a2n, b2n, c2n)\n",
      "Successfully created fn: def my_quadraticn_exponential(x, a2n, b2n, c2n, A5, b5):\n",
      "\treturn quadraticn(exponential(x, A5, b5), a2n, b2n, c2n)\n",
      "Successfully created fn: def my_quadraticn_logistic(x, a2n, b2n, c2n, A7, k7, x07):\n",
      "\treturn quadraticn(logistic(x, A7, k7, x07), a2n, b2n, c2n)\n",
      "Successfully created fn: def my_quadraticn_log(x, a2n, b2n, c2n):\n",
      "\treturn quadraticn(log(x), a2n, b2n, c2n)\n",
      "Successfully created fn: def my_cubic_sine(x, a3, b3, c3, d3, A4, f4, C4):\n",
      "\treturn cubic(sine(x, A4, f4, C4), a3, b3, c3, d3)\n",
      "Successfully created fn: def my_cubic_sinec(x, a3, b3, c3, d3, A4c, f4c, C4c, D4c):\n",
      "\treturn cubic(sinec(x, A4c, f4c, C4c, D4c), a3, b3, c3, d3)\n",
      "Successfully created fn: def my_cubic_exponential(x, a3, b3, c3, d3, A5, b5):\n",
      "\treturn cubic(exponential(x, A5, b5), a3, b3, c3, d3)\n",
      "Successfully created fn: def my_cubic_logistic(x, a3, b3, c3, d3, A7, k7, x07):\n",
      "\treturn cubic(logistic(x, A7, k7, x07), a3, b3, c3, d3)\n",
      "Successfully created fn: def my_cubic_log(x, a3, b3, c3, d3):\n",
      "\treturn cubic(log(x), a3, b3, c3, d3)\n",
      "Successfully created fn: def my_sine_exponential(x, A4, f4, C4, A5, b5):\n",
      "\treturn sine(exponential(x, A5, b5), A4, f4, C4)\n",
      "Successfully created fn: def my_sine_logistic(x, A4, f4, C4, A7, k7, x07):\n",
      "\treturn sine(logistic(x, A7, k7, x07), A4, f4, C4)\n",
      "Successfully created fn: def my_sine_log(x, A4, f4, C4):\n",
      "\treturn sine(log(x), A4, f4, C4)\n",
      "Successfully created fn: def my_sinec_exponential(x, A4c, f4c, C4c, D4c, A5, b5):\n",
      "\treturn sinec(exponential(x, A5, b5), A4c, f4c, C4c, D4c)\n",
      "Successfully created fn: def my_sinec_logistic(x, A4c, f4c, C4c, D4c, A7, k7, x07):\n",
      "\treturn sinec(logistic(x, A7, k7, x07), A4c, f4c, C4c, D4c)\n",
      "Successfully created fn: def my_sinec_log(x, A4c, f4c, C4c, D4c):\n",
      "\treturn sinec(log(x), A4c, f4c, C4c, D4c)\n",
      "Successfully created fn: def my_exponential_logistic(x, A5, b5, A7, k7, x07):\n",
      "\treturn exponential(logistic(x, A7, k7, x07), A5, b5)\n",
      "Successfully created fn: def my_exponential_log(x, A5, b5):\n",
      "\treturn exponential(log(x), A5, b5)\n",
      "Successfully created fn: def my_logistic_log(x, A7, k7, x07):\n",
      "\treturn logistic(log(x), A7, k7, x07)\n"
     ]
    }
   ],
   "source": [
    "def calc_ssr(y, yhat):\n",
    "    return sum((y - yhat)**2)\n",
    "\n",
    "names = ['linear', 'quadratic', 'quadraticn', 'cubic', 'sine', 'sinec', 'exponential', 'logistic', 'log']\n",
    "fns = [linear, quadratic, quadraticn, cubic,  sine, sinec, exponential, logistic, log]\n",
    "fns_dict = dict(zip(names, fns))\n",
    "\n",
    "names_comb = []\n",
    "for L in range(0, len(names)+1):\n",
    "    for subset in itertools.combinations(names, L):    \n",
    "        names_comb.append(' o '.join(subset))\n",
    "names_comb = names_comb[1:]\n",
    "names_comb = [fn for fn in names_comb if len(re.findall('quadratic', fn)) <= 1]\n",
    "names_comb = [fn for fn in names_comb if len(re.findall('sine', fn)) <= 1]\n",
    "names_comb = [fn for fn in names_comb if len(re.findall(' o ', fn)) == 1]\n",
    "\n",
    "for i in range(len(names_comb)):\n",
    "    text2 = []\n",
    "    all_args = []\n",
    "    for fn in names_comb[i].split(' o '):\n",
    "        args = inspect.getfullargspec(fns_dict[fn]).args[1:]\n",
    "        all_args.append(args)\n",
    "        text2.append(f\"{fn}(x, {', '.join(args)})\")\n",
    "    text2 = [t.replace(\"log(x, )\", \"log(x)\") for t in text2]\n",
    "    text2 = text2[0].replace(\"(x\",  \"(\" + text2[1])\n",
    "    text1 = f\"def my_{names_comb[i].replace(' o ', '_')}(x, {', '.join(list(itertools.chain(*all_args)))}):\"\n",
    "    exec(f\"{text1}\\n\\treturn {text2}\")\n",
    "    print(f\"Successfully created fn: {text1}\\n\\treturn {text2}\")\n",
    "\n",
    "fns_comb = []\n",
    "for L in range(0, len(names)+1):\n",
    "    for subset in itertools.combinations(names, L):    \n",
    "        fns_comb.append('_'.join(subset))\n",
    "fns_comb = fns_comb[1:]\n",
    "fns_comb = ['my_' + fn for fn in fns_comb]\n",
    "fns_comb = [fn for fn in fns_comb if len(re.findall('quadratic', fn)) <= 1]\n",
    "fns_comb = [fn for fn in fns_comb if len(re.findall('sine', fn)) <= 1]\n",
    "fns_comb = [fn for fn in fns_comb if len(re.findall('_', fn)) == 2]\n",
    "fns_comb = [eval(fn) for fn in fns_comb]\n",
    "\n",
    "def find_fn(x, y, ind, starting_param = 1):\n",
    "    name_list = []\n",
    "    popt_list = []\n",
    "    ssr_list = []\n",
    "\n",
    "    fns_comb_dict = dict(zip([names_comb[i] for i in ind], \n",
    "                             [fns_comb[i] for i in ind]))\n",
    "    for name, fn in fns_comb_dict.items():\n",
    "        n_args = len(inspect.getfullargspec(fn).args) - 1\n",
    "        p0 = [starting_param]*n_args\n",
    "        popt, pcov = curve_fit(fn, x, y, p0 = p0)\n",
    "        yhat = fn(x, *popt) ## calculate yhat\n",
    "\n",
    "        # Saving output\n",
    "        name_list.append(name)\n",
    "        popt_list.append(popt)\n",
    "        ssr_list.append(calc_ssr(y, yhat))\n",
    "\n",
    "    params_df = pd.DataFrame({'name': name_list,\n",
    "                              'parameters': popt_list,\n",
    "                              'ssr': ssr_list})\n",
    "    params_df = params_df.sort_values('ssr')\n",
    "    return params_df"
   ]
  },
  {
   "cell_type": "code",
   "execution_count": 5,
   "metadata": {},
   "outputs": [],
   "source": [
    "df3 = pd.read_csv('~/Desktop/fit_data3.csv')"
   ]
  },
  {
   "cell_type": "code",
   "execution_count": 6,
   "metadata": {},
   "outputs": [],
   "source": [
    "x3 = df3.x.to_numpy()\n",
    "y3 = df3.y.to_numpy()"
   ]
  },
  {
   "cell_type": "code",
   "execution_count": 7,
   "metadata": {},
   "outputs": [
    {
     "data": {
      "text/plain": [
       "[<matplotlib.lines.Line2D at 0x182dbdf1c50>]"
      ]
     },
     "execution_count": 7,
     "metadata": {},
     "output_type": "execute_result"
    },
    {
     "data": {
      "image/png": "[encoded data removed]",
      "text/plain": [
       "<Figure size 432x288 with 1 Axes>"
      ]
     },
     "metadata": {
      "needs_background": "light"
     },
     "output_type": "display_data"
    }
   ],
   "source": [
    "plt.plot(x3, y3, 'b-')"
   ]
  },
  {
   "cell_type": "code",
   "execution_count": 18,
   "metadata": {},
   "outputs": [
    {
     "data": {
      "text/plain": [
       "34"
      ]
     },
     "execution_count": 18,
     "metadata": {},
     "output_type": "execute_result"
    }
   ],
   "source": [
    "len(names_comb)"
   ]
  },
  {
   "cell_type": "code",
   "execution_count": 23,
   "metadata": {},
   "outputs": [
    {
     "ename": "IndexError",
     "evalue": "list index out of range",
     "output_type": "error",
     "traceback": [
      "\u001b[1;31m---------------------------------------------------------------------------\u001b[0m",
      "\u001b[1;31mIndexError\u001b[0m                                Traceback (most recent call last)",
      "\u001b[1;32m<ipython-input-23-3256dcd586f7>\u001b[0m in \u001b[0;36m<module>\u001b[1;34m\u001b[0m\n\u001b[0;32m      2\u001b[0m \u001b[0mlist\u001b[0m\u001b[1;33m(\u001b[0m\u001b[0mrange\u001b[0m\u001b[1;33m(\u001b[0m\u001b[1;36m8\u001b[0m\u001b[1;33m,\u001b[0m\u001b[1;36m134\u001b[0m\u001b[1;33m)\u001b[0m\u001b[1;33m)\u001b[0m\u001b[1;33m\u001b[0m\u001b[1;33m\u001b[0m\u001b[0m\n\u001b[0;32m      3\u001b[0m \u001b[1;33m\u001b[0m\u001b[0m\n\u001b[1;32m----> 4\u001b[1;33m \u001b[0mparams_df\u001b[0m \u001b[1;33m=\u001b[0m \u001b[0mfind_fn\u001b[0m\u001b[1;33m(\u001b[0m\u001b[0mx3\u001b[0m\u001b[1;33m,\u001b[0m \u001b[0my3\u001b[0m\u001b[1;33m,\u001b[0m \u001b[0mind\u001b[0m \u001b[1;33m=\u001b[0m \u001b[0mind\u001b[0m\u001b[1;33m)\u001b[0m\u001b[1;33m\u001b[0m\u001b[1;33m\u001b[0m\u001b[0m\n\u001b[0m\u001b[0;32m      5\u001b[0m \u001b[0mparams_df\u001b[0m\u001b[1;33m.\u001b[0m\u001b[0massign\u001b[0m\u001b[1;33m(\u001b[0m\u001b[0mparameters\u001b[0m \u001b[1;33m=\u001b[0m \u001b[1;33m[\u001b[0m\u001b[0mnp\u001b[0m\u001b[1;33m.\u001b[0m\u001b[0maround\u001b[0m\u001b[1;33m(\u001b[0m\u001b[0ml\u001b[0m\u001b[1;33m,\u001b[0m\u001b[1;36m2\u001b[0m\u001b[1;33m)\u001b[0m \u001b[1;32mfor\u001b[0m \u001b[0ml\u001b[0m \u001b[1;32min\u001b[0m \u001b[0mparams_df\u001b[0m\u001b[1;33m.\u001b[0m\u001b[0mparameters\u001b[0m\u001b[1;33m]\u001b[0m\u001b[1;33m)\u001b[0m\u001b[1;33m\u001b[0m\u001b[1;33m\u001b[0m\u001b[0m\n",
      "\u001b[1;32m<ipython-input-13-29847206a7f9>\u001b[0m in \u001b[0;36mfind_fn\u001b[1;34m(x, y, ind, starting_param)\u001b[0m\n\u001b[0;32m     44\u001b[0m     \u001b[0mssr_list\u001b[0m \u001b[1;33m=\u001b[0m \u001b[1;33m[\u001b[0m\u001b[1;33m]\u001b[0m\u001b[1;33m\u001b[0m\u001b[1;33m\u001b[0m\u001b[0m\n\u001b[0;32m     45\u001b[0m \u001b[1;33m\u001b[0m\u001b[0m\n\u001b[1;32m---> 46\u001b[1;33m     fns_comb_dict = dict(zip([names_comb[i] for i in ind], \n\u001b[0m\u001b[0;32m     47\u001b[0m                              [fns_comb[i] for i in ind]))\n\u001b[0;32m     48\u001b[0m     \u001b[1;32mfor\u001b[0m \u001b[0mname\u001b[0m\u001b[1;33m,\u001b[0m \u001b[0mfn\u001b[0m \u001b[1;32min\u001b[0m \u001b[0mfns_comb_dict\u001b[0m\u001b[1;33m.\u001b[0m\u001b[0mitems\u001b[0m\u001b[1;33m(\u001b[0m\u001b[1;33m)\u001b[0m\u001b[1;33m:\u001b[0m\u001b[1;33m\u001b[0m\u001b[1;33m\u001b[0m\u001b[0m\n",
      "\u001b[1;32m<ipython-input-13-29847206a7f9>\u001b[0m in \u001b[0;36m<listcomp>\u001b[1;34m(.0)\u001b[0m\n\u001b[0;32m     44\u001b[0m     \u001b[0mssr_list\u001b[0m \u001b[1;33m=\u001b[0m \u001b[1;33m[\u001b[0m\u001b[1;33m]\u001b[0m\u001b[1;33m\u001b[0m\u001b[1;33m\u001b[0m\u001b[0m\n\u001b[0;32m     45\u001b[0m \u001b[1;33m\u001b[0m\u001b[0m\n\u001b[1;32m---> 46\u001b[1;33m     fns_comb_dict = dict(zip([names_comb[i] for i in ind], \n\u001b[0m\u001b[0;32m     47\u001b[0m                              [fns_comb[i] for i in ind]))\n\u001b[0;32m     48\u001b[0m     \u001b[1;32mfor\u001b[0m \u001b[0mname\u001b[0m\u001b[1;33m,\u001b[0m \u001b[0mfn\u001b[0m \u001b[1;32min\u001b[0m \u001b[0mfns_comb_dict\u001b[0m\u001b[1;33m.\u001b[0m\u001b[0mitems\u001b[0m\u001b[1;33m(\u001b[0m\u001b[1;33m)\u001b[0m\u001b[1;33m:\u001b[0m\u001b[1;33m\u001b[0m\u001b[1;33m\u001b[0m\u001b[0m\n",
      "\u001b[1;31mIndexError\u001b[0m: list index out of range"
     ]
    }
   ],
   "source": [
    "ind = list(range(0,7)) +\\\n",
    "list(range(8,134))\n",
    "\n",
    "params_df = find_fn(x3, y3, ind = ind)\n",
    "params_df.assign(parameters = [np.around(l,2) for l in params_df.parameters])"
   ]
  }
 ],
 "metadata": {
  "kernelspec": {
   "display_name": "Python 3",
   "language": "python",
   "name": "python3"
  },
  "language_info": {
   "codemirror_mode": {
    "name": "ipython",
    "version": 3
   },
   "file_extension": ".py",
   "mimetype": "text/x-python",
   "name": "python",
   "nbconvert_exporter": "python",
   "pygments_lexer": "ipython3",
   "version": "3.7.1"
  }
 },
 "nbformat": 4,
 "nbformat_minor": 2
}
